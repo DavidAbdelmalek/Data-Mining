{
 "cells": [
  {
   "cell_type": "code",
   "execution_count": 1,
   "metadata": {},
   "outputs": [
    {
     "name": "stdout",
     "output_type": "stream",
     "text": [
      "Populating the interactive namespace from numpy and matplotlib\n"
     ]
    }
   ],
   "source": [
    "import numpy as np\n",
    "import pandas as pd\n",
    "%pylab inline\n",
    "from matplotlib import pyplot as plt"
   ]
  },
  {
   "cell_type": "markdown",
   "metadata": {},
   "source": [
    "# Helper functions for calculating PCA "
   ]
  },
  {
   "cell_type": "markdown",
   "metadata": {},
   "source": [
    "### Rescaling feature vectors to all have the same scale"
   ]
  },
  {
   "cell_type": "code",
   "execution_count": 2,
   "metadata": {},
   "outputs": [],
   "source": [
    "from sklearn.preprocessing import StandardScaler\n",
    "\n",
    "def rescale_features(data):\n",
    "    \"\"\"\n",
    "    CA is effected by scale so we need to scale the features to help in standardize the dataset’s \n",
    "    features onto unit scale (mean = 0 and variance = 1) \n",
    "    \"\"\"\n",
    "    # Separating out the features\n",
    "    x = data.loc[:, :].values\n",
    "    # Standardizing the features\n",
    "    x = StandardScaler().fit_transform(x)\n",
    "    \n",
    "    data_out = pd.DataFrame(x)\n",
    "    data_out.columns = data.columns.values\n",
    "    return data_out"
   ]
  },
  {
   "cell_type": "markdown",
   "metadata": {},
   "source": [
    "###  Calculate the mean of all m variables as a single vector in Rm"
   ]
  },
  {
   "cell_type": "code",
   "execution_count": 3,
   "metadata": {},
   "outputs": [],
   "source": [
    "def calc_mean(data,features,M):\n",
    "    mean_vector = np.zeros(shape=(M,1))\n",
    "    for i in range(M):\n",
    "        curr = features[i]\n",
    "        mu = np.mean(data.loc[curr])\n",
    "        mean_vector[i,0]=mu\n",
    "    return mean_vector"
   ]
  },
  {
   "cell_type": "markdown",
   "metadata": {},
   "source": [
    "###  Computing the Scatter Matrix"
   ]
  },
  {
   "cell_type": "code",
   "execution_count": 4,
   "metadata": {},
   "outputs": [],
   "source": [
    "def scatter(data,features,N,M,mean_vector):\n",
    "    scatter_matrix = np.zeros((M,M))\n",
    "    for i in range(N):\n",
    "        # re-center the data so that the mean is zero by substracting data with the mean. \n",
    "        B = (((data.loc[:,i]).values).reshape(M,1)) - mean_vector\n",
    "        scatter_matrix += B.dot((B.T))\n",
    "    return(scatter_matrix)    "
   ]
  },
  {
   "cell_type": "markdown",
   "metadata": {},
   "source": [
    "###  Sorting the eigenvectors"
   ]
  },
  {
   "cell_type": "code",
   "execution_count": 5,
   "metadata": {},
   "outputs": [],
   "source": [
    "def sort_eign(data,eig_vec_cov,eig_val_cov):\n",
    "    '''\n",
    "    Look at the corresponding eigenvalues of the eigenvectors. \n",
    "    The common approach is to rank the eigenvectors from highest to lowest corresponding eigenvalue \n",
    "    and choose the top k eigenvectors.\n",
    "    '''\n",
    "    # Make a list of (eigenvalue, eigenvector) tuples\n",
    "    eig_pairs = [(np.abs(eig_val_cov[i]), eig_vec_cov[:,i]) for i in range(len(eig_val_cov))]\n",
    "\n",
    "    # Sort the (eigenvalue, eigenvector) tuples from high to low\n",
    "    #eig_pairs.sort(key=lambda x: x[0], reverse=True)\n",
    "\n",
    "    # Visually confirm that the list is correctly sorted by decreasing eigenvalues\n",
    "    #for i in eig_pairs:\n",
    "    #    print(i[0])\n",
    "    \n",
    "    return eig_pairs\n",
    "    "
   ]
  },
  {
   "cell_type": "markdown",
   "metadata": {},
   "source": [
    "###  Choosing k eigenvectors with the largest eigenvalues"
   ]
  },
  {
   "cell_type": "code",
   "execution_count": 6,
   "metadata": {},
   "outputs": [],
   "source": [
    "def get_k_eign(eig_pairs,M,k):\n",
    "    k_list = []\n",
    "    for i in range(k):\n",
    "        k_list.append((eig_pairs[i][1]).reshape(M,1))\n",
    "    matrix_w = np.hstack(k_list)\n",
    "    #print('Matrix W:\\n', matrix_w)\n",
    "    return matrix_w"
   ]
  },
  {
   "cell_type": "markdown",
   "metadata": {},
   "source": [
    "# PCA"
   ]
  },
  {
   "cell_type": "code",
   "execution_count": 7,
   "metadata": {},
   "outputs": [],
   "source": [
    "def pca(data,k):\n",
    "    \"\"\"\n",
    "        input: Data and k-values for dimension reduction\n",
    "    \"\"\"\n",
    "    # Number of records\n",
    "    N = data.shape[0]\n",
    "    ## Number of features\n",
    "    M = data.shape[1]\n",
    "    # Extract features\n",
    "    features = list(data.columns)\n",
    "    #print(\"Data has {records} records while {features} features\".format(records=N,features=M))\n",
    "    #print('-'*40)\n",
    "    \n",
    "    # Scale_data \n",
    "    #data=rescale_features(data)\n",
    "\n",
    "    # Get Transpose of Data.\n",
    "    data = data.T\n",
    "    #print(data)\n",
    "\n",
    "    # Calculate mean vector out of features \n",
    "    mean_vector = calc_mean(data,features,M)\n",
    "    #print('Mean Vector:\\n', mean_vector)\n",
    "    #print('-'*40)\n",
    "\n",
    "    #Calculate Scatter Matrix\n",
    "    scatter_mat =  scatter(data,features,N,M,mean_vector)\n",
    "    #print('Scatter Matrix:\\n', scatter_mat)\n",
    "    #print('-'*40)\n",
    "    \n",
    "    # Calculate covariancee from scatter Matrix\n",
    "    cov_mat = (1/(N-1))*scatter_mat\n",
    "    #print('Covariance Matrix:\\n', cov_mat)\n",
    "    #print('-'*40)\n",
    "    \n",
    "    # eigenvectors and eigenvalues for the from the covariance matrix\n",
    "    eig_val_cov, eig_vec_cov = np.linalg.eig(cov_mat)\n",
    "    \n",
    "    # check that the eigenvector-eigenvalue calculation is correct and satisfy the equation\n",
    "    for i in range(len(eig_val_cov)):\n",
    "        eigv = eig_vec_cov[:,i].reshape(1,M).T\n",
    "        np.testing.assert_array_almost_equal(cov_mat.dot(eigv), eig_val_cov[i] * eigv,\n",
    "                                             decimal=6, err_msg='', verbose=True)\n",
    "    \n",
    "    # All eignvectors have same unit length 1 in which define the directions of the new axis \n",
    "    for ev in eig_vec_cov:\n",
    "        np.testing.assert_array_almost_equal(1.0, np.linalg.norm(ev))\n",
    "        \n",
    "    # Sorting the eigenvectors by decreasing eigenvalues\n",
    "    eig_pairs = sort_eign(data,eig_vec_cov,eig_val_cov)\n",
    "    \n",
    "    # Choose top k eigenvectors.\n",
    "    matrix_w= get_k_eign(eig_pairs,M,k)\n",
    "    \n",
    "    transformed = matrix_w.T.dot(data)\n",
    "    \n",
    "    \n",
    "    return matrix_w,transformed\n",
    "    \n",
    "    #return data"
   ]
  },
  {
   "cell_type": "code",
   "execution_count": 8,
   "metadata": {},
   "outputs": [],
   "source": [
    "data_df = pd.read_csv('Data.txt', sep=\" \", header=None)\n",
    "data_df.columns = [\"feature1\", \"feature2\"]"
   ]
  },
  {
   "cell_type": "code",
   "execution_count": 9,
   "metadata": {},
   "outputs": [
    {
     "data": {
      "text/html": [
       "<div>\n",
       "<style scoped>\n",
       "    .dataframe tbody tr th:only-of-type {\n",
       "        vertical-align: middle;\n",
       "    }\n",
       "\n",
       "    .dataframe tbody tr th {\n",
       "        vertical-align: top;\n",
       "    }\n",
       "\n",
       "    .dataframe thead th {\n",
       "        text-align: right;\n",
       "    }\n",
       "</style>\n",
       "<table border=\"1\" class=\"dataframe\">\n",
       "  <thead>\n",
       "    <tr style=\"text-align: right;\">\n",
       "      <th></th>\n",
       "      <th>feature1</th>\n",
       "      <th>feature2</th>\n",
       "    </tr>\n",
       "  </thead>\n",
       "  <tbody>\n",
       "    <tr>\n",
       "      <th>0</th>\n",
       "      <td>4.309901</td>\n",
       "      <td>4.174589</td>\n",
       "    </tr>\n",
       "    <tr>\n",
       "      <th>1</th>\n",
       "      <td>4.500796</td>\n",
       "      <td>3.604371</td>\n",
       "    </tr>\n",
       "    <tr>\n",
       "      <th>2</th>\n",
       "      <td>4.564716</td>\n",
       "      <td>5.748079</td>\n",
       "    </tr>\n",
       "    <tr>\n",
       "      <th>3</th>\n",
       "      <td>6.765445</td>\n",
       "      <td>6.245457</td>\n",
       "    </tr>\n",
       "    <tr>\n",
       "      <th>4</th>\n",
       "      <td>4.733802</td>\n",
       "      <td>5.446039</td>\n",
       "    </tr>\n",
       "  </tbody>\n",
       "</table>\n",
       "</div>"
      ],
      "text/plain": [
       "   feature1  feature2\n",
       "0  4.309901  4.174589\n",
       "1  4.500796  3.604371\n",
       "2  4.564716  5.748079\n",
       "3  6.765445  6.245457\n",
       "4  4.733802  5.446039"
      ]
     },
     "execution_count": 9,
     "metadata": {},
     "output_type": "execute_result"
    }
   ],
   "source": [
    "data_df.head()"
   ]
  },
  {
   "cell_type": "code",
   "execution_count": 10,
   "metadata": {},
   "outputs": [
    {
     "data": {
      "text/plain": [
       "(1000, 2)"
      ]
     },
     "execution_count": 10,
     "metadata": {},
     "output_type": "execute_result"
    }
   ],
   "source": [
    "data_df.shape"
   ]
  },
  {
   "cell_type": "code",
   "execution_count": 11,
   "metadata": {},
   "outputs": [],
   "source": [
    "eign_vec, principalComponents = pca(data_df,2)"
   ]
  },
  {
   "cell_type": "code",
   "execution_count": 15,
   "metadata": {},
   "outputs": [
    {
     "data": {
      "image/png": "[encoded data removed]",
      "text/plain": [
       "<Figure size 432x288 with 1 Axes>"
      ]
     },
     "metadata": {
      "needs_background": "light"
     },
     "output_type": "display_data"
    }
   ],
   "source": [
    "plt.scatter(data_df['feature1'], data_df['feature2'], edgecolors='b')\n",
    "\n",
    "origin = [data_df['feature1'].mean()], [data_df['feature2'].mean()]\n",
    "\n",
    "plt.quiver(*origin ,eign_vec[0],eign_vec[1],units=\"xy\",angles='xy', scale_units='xy', scale=0.7)\n",
    "plt.xlabel('Feature 1')\n",
    "plt.ylabel('Feature 2')\n",
    "plt.title('Data')\n",
    "plt.savefig('Data_PCA.png')\n",
    "plt.show()"
   ]
  },
  {
   "cell_type": "code",
   "execution_count": null,
   "metadata": {},
   "outputs": [],
   "source": []
  }
 ],
 "metadata": {
  "kernelspec": {
   "display_name": "Python [conda root]",
   "language": "python",
   "name": "conda-root-py"
  },
  "language_info": {
   "codemirror_mode": {
    "name": "ipython",
    "version": 3
   },
   "file_extension": ".py",
   "mimetype": "text/x-python",
   "name": "python",
   "nbconvert_exporter": "python",
   "pygments_lexer": "ipython3",
   "version": "3.6.7"
  }
 },
 "nbformat": 4,
 "nbformat_minor": 2
}
