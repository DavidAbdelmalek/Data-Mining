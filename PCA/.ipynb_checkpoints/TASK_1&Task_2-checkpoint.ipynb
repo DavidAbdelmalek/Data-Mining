{
 "cells": [
  {
   "cell_type": "code",
   "execution_count": 1,
   "metadata": {},
   "outputs": [
    {
     "name": "stdout",
     "output_type": "stream",
     "text": [
      "Populating the interactive namespace from numpy and matplotlib\n"
     ]
    }
   ],
   "source": [
    "import numpy as np\n",
    "import pandas as pd\n",
    "%pylab inline\n",
    "from matplotlib import pyplot as plt"
   ]
  },
  {
   "cell_type": "markdown",
   "metadata": {},
   "source": [
    "# Helper functions for calculating PCA "
   ]
  },
  {
   "cell_type": "markdown",
   "metadata": {},
   "source": [
    "### Rescaling feature vectors to all have the same scale"
   ]
  },
  {
   "cell_type": "code",
   "execution_count": 2,
   "metadata": {},
   "outputs": [],
   "source": [
    "from sklearn.preprocessing import StandardScaler\n",
    "\n",
    "def rescale_features(data):\n",
    "    \"\"\"\n",
    "    CA is effected by scale so we need to scale the features to help in standardize the dataset’s \n",
    "    features onto unit scale (mean = 0 and variance = 1) \n",
    "    \"\"\"\n",
    "    # Separating out the features\n",
    "    x = data.loc[:, :].values\n",
    "    # Standardizing the features\n",
    "    x = StandardScaler().fit_transform(x)\n",
    "    \n",
    "    data_out = pd.DataFrame(x)\n",
    "    data_out.columns = data.columns.values\n",
    "    return data_out"
   ]
  },
  {
   "cell_type": "markdown",
   "metadata": {},
   "source": [
    "###  Calculate the mean of all m variables as a single vector in Rm"
   ]
  },
  {
   "cell_type": "code",
   "execution_count": 3,
   "metadata": {},
   "outputs": [],
   "source": [
    "def calc_mean(data,features,M):\n",
    "    mean_vector = np.zeros(shape=(M,1))\n",
    "    for i in range(M):\n",
    "        curr = features[i]\n",
    "        mu = np.mean(data.loc[curr])\n",
    "        mean_vector[i,0]=mu\n",
    "    return mean_vector"
   ]
  },
  {
   "cell_type": "markdown",
   "metadata": {},
   "source": [
    "###  Computing the Scatter Matrix"
   ]
  },
  {
   "cell_type": "code",
   "execution_count": 4,
   "metadata": {},
   "outputs": [],
   "source": [
    "def scatter(data,features,N,M,mean_vector):\n",
    "    scatter_matrix = np.zeros((M,M))\n",
    "    for i in range(N):\n",
    "        # re-center the data so that the mean is zero by substracting data with the mean. \n",
    "        B = (((data.loc[:,i]).values).reshape(M,1)) - mean_vector\n",
    "        scatter_matrix += B.dot((B.T))\n",
    "    return(scatter_matrix)    "
   ]
  },
  {
   "cell_type": "markdown",
   "metadata": {},
   "source": [
    "###  Sorting the eigenvectors"
   ]
  },
  {
   "cell_type": "code",
   "execution_count": 5,
   "metadata": {},
   "outputs": [],
   "source": [
    "def sort_eign(data,eig_vec_cov,eig_val_cov):\n",
    "    '''\n",
    "    Look at the corresponding eigenvalues of the eigenvectors. \n",
    "    The common approach is to rank the eigenvectors from highest to lowest corresponding eigenvalue \n",
    "    and choose the top k eigenvectors.\n",
    "    '''\n",
    "    # Make a list of (eigenvalue, eigenvector) tuples\n",
    "    eig_pairs = [(np.abs(eig_val_cov[i]), eig_vec_cov[:,i]) for i in range(len(eig_val_cov))]\n",
    "\n",
    "    # Sort the (eigenvalue, eigenvector) tuples from high to low\n",
    "    #eig_pairs.sort(key=lambda x: x[0], reverse=True)\n",
    "\n",
    "    # Visually confirm that the list is correctly sorted by decreasing eigenvalues\n",
    "    #for i in eig_pairs:\n",
    "    #    print(i[0])\n",
    "    \n",
    "    return eig_pairs\n",
    "    "
   ]
  },
  {
   "cell_type": "markdown",
   "metadata": {},
   "source": [
    "###  Choosing k eigenvectors with the largest eigenvalues"
   ]
  },
  {
   "cell_type": "code",
   "execution_count": 6,
   "metadata": {},
   "outputs": [],
   "source": [
    "def get_k_eign(eig_pairs,M,k):\n",
    "    k_list = []\n",
    "    for i in range(k):\n",
    "        k_list.append((eig_pairs[i][1]).reshape(M,1))\n",
    "    matrix_w = np.hstack(k_list)\n",
    "    print('Matrix W:\\n', matrix_w)\n",
    "    return matrix_w"
   ]
  },
  {
   "cell_type": "markdown",
   "metadata": {},
   "source": [
    "# PCA"
   ]
  },
  {
   "cell_type": "code",
   "execution_count": 7,
   "metadata": {},
   "outputs": [],
   "source": [
    "def pca(data,k):\n",
    "    \"\"\"\n",
    "        input: Data and k-values for dimension reduction\n",
    "    \"\"\"\n",
    "    # Number of records\n",
    "    N = data.shape[0]\n",
    "    ## Number of features\n",
    "    M = data.shape[1]\n",
    "    # Extract features\n",
    "    features = list(data.columns)\n",
    "    print(\"Data has {records} records while {features} features\".format(records=N,features=M))\n",
    "    print('-'*40)\n",
    "    \n",
    "    # Scale_data \n",
    "    #data=rescale_features(data)\n",
    "\n",
    "    # Get Transpose of Data.\n",
    "    data = data.T\n",
    "    #print(data)\n",
    "\n",
    "    # Calculate mean vector out of features \n",
    "    mean_vector = calc_mean(data,features,M)\n",
    "    print('Mean Vector:\\n', mean_vector)\n",
    "    print('-'*40)\n",
    "\n",
    "    #Calculate Scatter Matrix\n",
    "    scatter_mat =  scatter(data,features,N,M,mean_vector)\n",
    "    print('Scatter Matrix:\\n', scatter_mat)\n",
    "    print('-'*40)\n",
    "    \n",
    "    # Calculate covariancee from scatter Matrix\n",
    "    cov_mat = (1/(N-1))*scatter_mat\n",
    "    print('Covariance Matrix:\\n', cov_mat)\n",
    "    print('-'*40)\n",
    "    \n",
    "    # eigenvectors and eigenvalues for the from the covariance matrix\n",
    "    eig_val_cov, eig_vec_cov = np.linalg.eig(cov_mat)\n",
    "    \n",
    "    # check that the eigenvector-eigenvalue calculation is correct and satisfy the equation\n",
    "    for i in range(len(eig_val_cov)):\n",
    "        eigv = eig_vec_cov[:,i].reshape(1,M).T\n",
    "        np.testing.assert_array_almost_equal(cov_mat.dot(eigv), eig_val_cov[i] * eigv,\n",
    "                                             decimal=6, err_msg='', verbose=True)\n",
    "    \n",
    "    # All eignvectors have same unit length 1 in which define the directions of the new axis \n",
    "    for ev in eig_vec_cov:\n",
    "        np.testing.assert_array_almost_equal(1.0, np.linalg.norm(ev))\n",
    "        \n",
    "    # Sorting the eigenvectors by decreasing eigenvalues\n",
    "    eig_pairs = sort_eign(data,eig_vec_cov,eig_val_cov)\n",
    "    \n",
    "    # Choose top k eigenvectors.\n",
    "    matrix_w= get_k_eign(eig_pairs,M,k)\n",
    "    \n",
    "    transformed = matrix_w.T.dot(data)\n",
    "    \n",
    "    \n",
    "    return matrix_w,transformed\n",
    "    \n",
    "    #return data"
   ]
  },
  {
   "cell_type": "markdown",
   "metadata": {},
   "source": [
    "# Task 1"
   ]
  },
  {
   "cell_type": "code",
   "execution_count": 8,
   "metadata": {},
   "outputs": [],
   "source": [
    "data_df = pd.read_csv('Data.txt', sep=\" \", header=None)\n",
    "data_df.columns = [\"feature1\", \"feature2\"]"
   ]
  },
  {
   "cell_type": "code",
   "execution_count": 9,
   "metadata": {},
   "outputs": [
    {
     "data": {
      "text/html": [
       "<div>\n",
       "<style scoped>\n",
       "    .dataframe tbody tr th:only-of-type {\n",
       "        vertical-align: middle;\n",
       "    }\n",
       "\n",
       "    .dataframe tbody tr th {\n",
       "        vertical-align: top;\n",
       "    }\n",
       "\n",
       "    .dataframe thead th {\n",
       "        text-align: right;\n",
       "    }\n",
       "</style>\n",
       "<table border=\"1\" class=\"dataframe\">\n",
       "  <thead>\n",
       "    <tr style=\"text-align: right;\">\n",
       "      <th></th>\n",
       "      <th>feature1</th>\n",
       "      <th>feature2</th>\n",
       "    </tr>\n",
       "  </thead>\n",
       "  <tbody>\n",
       "    <tr>\n",
       "      <th>0</th>\n",
       "      <td>4.309901</td>\n",
       "      <td>4.174589</td>\n",
       "    </tr>\n",
       "    <tr>\n",
       "      <th>1</th>\n",
       "      <td>4.500796</td>\n",
       "      <td>3.604371</td>\n",
       "    </tr>\n",
       "    <tr>\n",
       "      <th>2</th>\n",
       "      <td>4.564716</td>\n",
       "      <td>5.748079</td>\n",
       "    </tr>\n",
       "    <tr>\n",
       "      <th>3</th>\n",
       "      <td>6.765445</td>\n",
       "      <td>6.245457</td>\n",
       "    </tr>\n",
       "    <tr>\n",
       "      <th>4</th>\n",
       "      <td>4.733802</td>\n",
       "      <td>5.446039</td>\n",
       "    </tr>\n",
       "  </tbody>\n",
       "</table>\n",
       "</div>"
      ],
      "text/plain": [
       "   feature1  feature2\n",
       "0  4.309901  4.174589\n",
       "1  4.500796  3.604371\n",
       "2  4.564716  5.748079\n",
       "3  6.765445  6.245457\n",
       "4  4.733802  5.446039"
      ]
     },
     "execution_count": 9,
     "metadata": {},
     "output_type": "execute_result"
    }
   ],
   "source": [
    "data_df.head()"
   ]
  },
  {
   "cell_type": "code",
   "execution_count": 10,
   "metadata": {},
   "outputs": [
    {
     "data": {
      "text/plain": [
       "(1000, 2)"
      ]
     },
     "execution_count": 10,
     "metadata": {},
     "output_type": "execute_result"
    }
   ],
   "source": [
    "data_df.shape"
   ]
  },
  {
   "cell_type": "code",
   "execution_count": 11,
   "metadata": {},
   "outputs": [
    {
     "name": "stdout",
     "output_type": "stream",
     "text": [
      "Data has 1000 records while 2 features\n",
      "----------------------------------------\n",
      "Mean Vector:\n",
      " [[4.98211012]\n",
      " [4.97910972]]\n",
      "----------------------------------------\n",
      "Scatter Matrix:\n",
      " [[850.82466253 787.93572972]\n",
      " [787.93572972 994.39652154]]\n",
      "----------------------------------------\n",
      "Covariance Matrix:\n",
      " [[0.85167634 0.78872445]\n",
      " [0.78872445 0.99539191]]\n",
      "----------------------------------------\n",
      "Matrix W:\n",
      " [[-0.73848851 -0.67426606]\n",
      " [ 0.67426606 -0.73848851]]\n"
     ]
    }
   ],
   "source": [
    "eign_vec, principalComponents = pca(data_df,2)"
   ]
  },
  {
   "cell_type": "code",
   "execution_count": 27,
   "metadata": {},
   "outputs": [
    {
     "data": {
      "image/png": "[encoded data removed]",
      "text/plain": [
       "<Figure size 432x288 with 1 Axes>"
      ]
     },
     "metadata": {
      "needs_background": "light"
     },
     "output_type": "display_data"
    }
   ],
   "source": [
    "plt.scatter(data_df['feature1'], data_df['feature2'], edgecolors='b')\n",
    "\n",
    "origin = [data_df['feature1'].mean()], [data_df['feature2'].mean()]\n",
    "\n",
    "plt.quiver(*origin ,eign_vec[0],eign_vec[1],units=\"xy\",angles='xy', scale_units='xy', scale=0.7)\n",
    "plt.xlabel('Feature 1')\n",
    "plt.ylabel('Feature 2')\n",
    "plt.title('Data')\n",
    "plt.savefig('Data_PCA.png')\n",
    "plt.show()\n"
   ]
  },
  {
   "cell_type": "markdown",
   "metadata": {},
   "source": [
    "# Task 2"
   ]
  },
  {
   "cell_type": "code",
   "execution_count": 13,
   "metadata": {},
   "outputs": [
    {
     "data": {
      "text/html": [
       "<div>\n",
       "<style scoped>\n",
       "    .dataframe tbody tr th:only-of-type {\n",
       "        vertical-align: middle;\n",
       "    }\n",
       "\n",
       "    .dataframe tbody tr th {\n",
       "        vertical-align: top;\n",
       "    }\n",
       "\n",
       "    .dataframe thead th {\n",
       "        text-align: right;\n",
       "    }\n",
       "</style>\n",
       "<table border=\"1\" class=\"dataframe\">\n",
       "  <thead>\n",
       "    <tr style=\"text-align: right;\">\n",
       "      <th></th>\n",
       "      <th>HomeTeam</th>\n",
       "      <th>AwayTeam</th>\n",
       "      <th>HS</th>\n",
       "      <th>AS</th>\n",
       "      <th>HST</th>\n",
       "      <th>AST</th>\n",
       "      <th>HF</th>\n",
       "      <th>AF</th>\n",
       "      <th>HC</th>\n",
       "      <th>AC</th>\n",
       "      <th>FTR</th>\n",
       "    </tr>\n",
       "  </thead>\n",
       "  <tbody>\n",
       "    <tr>\n",
       "      <th>0</th>\n",
       "      <td>Arsenal</td>\n",
       "      <td>Leicester</td>\n",
       "      <td>27</td>\n",
       "      <td>6</td>\n",
       "      <td>10</td>\n",
       "      <td>3</td>\n",
       "      <td>9</td>\n",
       "      <td>12</td>\n",
       "      <td>9</td>\n",
       "      <td>4</td>\n",
       "      <td>H</td>\n",
       "    </tr>\n",
       "    <tr>\n",
       "      <th>1</th>\n",
       "      <td>Brighton</td>\n",
       "      <td>Man City</td>\n",
       "      <td>6</td>\n",
       "      <td>14</td>\n",
       "      <td>2</td>\n",
       "      <td>4</td>\n",
       "      <td>6</td>\n",
       "      <td>9</td>\n",
       "      <td>3</td>\n",
       "      <td>10</td>\n",
       "      <td>A</td>\n",
       "    </tr>\n",
       "    <tr>\n",
       "      <th>2</th>\n",
       "      <td>Chelsea</td>\n",
       "      <td>Burnley</td>\n",
       "      <td>19</td>\n",
       "      <td>10</td>\n",
       "      <td>6</td>\n",
       "      <td>5</td>\n",
       "      <td>16</td>\n",
       "      <td>11</td>\n",
       "      <td>8</td>\n",
       "      <td>5</td>\n",
       "      <td>A</td>\n",
       "    </tr>\n",
       "    <tr>\n",
       "      <th>3</th>\n",
       "      <td>Crystal Palace</td>\n",
       "      <td>Huddersfield</td>\n",
       "      <td>14</td>\n",
       "      <td>8</td>\n",
       "      <td>4</td>\n",
       "      <td>6</td>\n",
       "      <td>7</td>\n",
       "      <td>19</td>\n",
       "      <td>12</td>\n",
       "      <td>9</td>\n",
       "      <td>A</td>\n",
       "    </tr>\n",
       "    <tr>\n",
       "      <th>4</th>\n",
       "      <td>Everton</td>\n",
       "      <td>Stoke</td>\n",
       "      <td>9</td>\n",
       "      <td>9</td>\n",
       "      <td>4</td>\n",
       "      <td>1</td>\n",
       "      <td>13</td>\n",
       "      <td>10</td>\n",
       "      <td>6</td>\n",
       "      <td>7</td>\n",
       "      <td>H</td>\n",
       "    </tr>\n",
       "  </tbody>\n",
       "</table>\n",
       "</div>"
      ],
      "text/plain": [
       "         HomeTeam      AwayTeam  HS  AS  HST  AST  HF  AF  HC  AC FTR\n",
       "0         Arsenal     Leicester  27   6   10    3   9  12   9   4   H\n",
       "1        Brighton      Man City   6  14    2    4   6   9   3  10   A\n",
       "2         Chelsea       Burnley  19  10    6    5  16  11   8   5   A\n",
       "3  Crystal Palace  Huddersfield  14   8    4    6   7  19  12   9   A\n",
       "4         Everton         Stoke   9   9    4    1  13  10   6   7   H"
      ]
     },
     "execution_count": 13,
     "metadata": {},
     "output_type": "execute_result"
    }
   ],
   "source": [
    "epl_df = pd.read_excel(\"EPL.xlsx\")\n",
    "epl_df.head()"
   ]
  },
  {
   "cell_type": "code",
   "execution_count": 14,
   "metadata": {},
   "outputs": [
    {
     "data": {
      "text/plain": [
       "(281, 11)"
      ]
     },
     "execution_count": 14,
     "metadata": {},
     "output_type": "execute_result"
    }
   ],
   "source": [
    "epl_df.shape"
   ]
  },
  {
   "cell_type": "code",
   "execution_count": 15,
   "metadata": {},
   "outputs": [],
   "source": [
    "# Separating out the target\n",
    "FTR = epl_df.loc[:,['FTR']].values"
   ]
  },
  {
   "cell_type": "code",
   "execution_count": 16,
   "metadata": {},
   "outputs": [
    {
     "data": {
      "text/html": [
       "<div>\n",
       "<style scoped>\n",
       "    .dataframe tbody tr th:only-of-type {\n",
       "        vertical-align: middle;\n",
       "    }\n",
       "\n",
       "    .dataframe tbody tr th {\n",
       "        vertical-align: top;\n",
       "    }\n",
       "\n",
       "    .dataframe thead th {\n",
       "        text-align: right;\n",
       "    }\n",
       "</style>\n",
       "<table border=\"1\" class=\"dataframe\">\n",
       "  <thead>\n",
       "    <tr style=\"text-align: right;\">\n",
       "      <th></th>\n",
       "      <th>HS</th>\n",
       "      <th>AS</th>\n",
       "      <th>HST</th>\n",
       "      <th>AST</th>\n",
       "      <th>HF</th>\n",
       "      <th>AF</th>\n",
       "      <th>HC</th>\n",
       "      <th>AC</th>\n",
       "    </tr>\n",
       "  </thead>\n",
       "  <tbody>\n",
       "    <tr>\n",
       "      <th>0</th>\n",
       "      <td>27</td>\n",
       "      <td>6</td>\n",
       "      <td>10</td>\n",
       "      <td>3</td>\n",
       "      <td>9</td>\n",
       "      <td>12</td>\n",
       "      <td>9</td>\n",
       "      <td>4</td>\n",
       "    </tr>\n",
       "    <tr>\n",
       "      <th>1</th>\n",
       "      <td>6</td>\n",
       "      <td>14</td>\n",
       "      <td>2</td>\n",
       "      <td>4</td>\n",
       "      <td>6</td>\n",
       "      <td>9</td>\n",
       "      <td>3</td>\n",
       "      <td>10</td>\n",
       "    </tr>\n",
       "    <tr>\n",
       "      <th>2</th>\n",
       "      <td>19</td>\n",
       "      <td>10</td>\n",
       "      <td>6</td>\n",
       "      <td>5</td>\n",
       "      <td>16</td>\n",
       "      <td>11</td>\n",
       "      <td>8</td>\n",
       "      <td>5</td>\n",
       "    </tr>\n",
       "    <tr>\n",
       "      <th>3</th>\n",
       "      <td>14</td>\n",
       "      <td>8</td>\n",
       "      <td>4</td>\n",
       "      <td>6</td>\n",
       "      <td>7</td>\n",
       "      <td>19</td>\n",
       "      <td>12</td>\n",
       "      <td>9</td>\n",
       "    </tr>\n",
       "    <tr>\n",
       "      <th>4</th>\n",
       "      <td>9</td>\n",
       "      <td>9</td>\n",
       "      <td>4</td>\n",
       "      <td>1</td>\n",
       "      <td>13</td>\n",
       "      <td>10</td>\n",
       "      <td>6</td>\n",
       "      <td>7</td>\n",
       "    </tr>\n",
       "  </tbody>\n",
       "</table>\n",
       "</div>"
      ],
      "text/plain": [
       "   HS  AS  HST  AST  HF  AF  HC  AC\n",
       "0  27   6   10    3   9  12   9   4\n",
       "1   6  14    2    4   6   9   3  10\n",
       "2  19  10    6    5  16  11   8   5\n",
       "3  14   8    4    6   7  19  12   9\n",
       "4   9   9    4    1  13  10   6   7"
      ]
     },
     "execution_count": 16,
     "metadata": {},
     "output_type": "execute_result"
    }
   ],
   "source": [
    "epl_df = epl_df.drop(['HomeTeam','AwayTeam','FTR'], 1)\n",
    "epl_df.head()"
   ]
  },
  {
   "cell_type": "code",
   "execution_count": 17,
   "metadata": {},
   "outputs": [
    {
     "data": {
      "text/plain": [
       "(281, 8)"
      ]
     },
     "execution_count": 17,
     "metadata": {},
     "output_type": "execute_result"
    }
   ],
   "source": [
    "epl_df.shape"
   ]
  },
  {
   "cell_type": "code",
   "execution_count": 18,
   "metadata": {},
   "outputs": [
    {
     "name": "stdout",
     "output_type": "stream",
     "text": [
      "Data has 281 records while 8 features\n",
      "----------------------------------------\n",
      "Mean Vector:\n",
      " [[13.3024911 ]\n",
      " [10.87188612]\n",
      " [ 4.78647687]\n",
      " [ 3.82562278]\n",
      " [ 9.91103203]\n",
      " [10.48754448]\n",
      " [ 5.52669039]\n",
      " [ 4.63345196]]\n",
      "----------------------------------------\n",
      "Scatter Matrix:\n",
      " [[ 8.42328826e+03 -4.01711032e+03  3.18414947e+03 -1.42117794e+03\n",
      "  -9.64377224e+01 -2.64412811e+01  2.45523132e+03 -1.84184342e+03]\n",
      " [-4.01711032e+03  6.55938790e+03 -1.77268683e+03  2.25172242e+03\n",
      "   1.82797153e+02  2.32551601e+02 -1.28703915e+03  2.07080427e+03]\n",
      " [ 3.18414947e+03 -1.77268683e+03  2.32118861e+03 -7.13462633e+02\n",
      "  -4.33807829e+00 -6.57473310e+01  7.54601423e+02 -7.08992883e+02]\n",
      " [-1.42117794e+03  2.25172242e+03 -7.13462633e+02  1.58045552e+03\n",
      "   9.26405694e+01  6.68896797e+01 -3.90192171e+02  6.16039146e+02]\n",
      " [-9.64377224e+01  1.82797153e+02 -4.33807829e+00  9.26405694e+01\n",
      "   2.98877580e+03  4.39188612e+02 -6.48327402e+01 -2.61637011e+01]\n",
      " [-2.64412811e+01  2.32551601e+02 -6.57473310e+01  6.68896797e+01\n",
      "   4.39188612e+02  2.91820641e+03  5.28434164e+01  2.34217082e+02]\n",
      " [ 2.45523132e+03 -1.28703915e+03  7.54601423e+02 -3.90192171e+02\n",
      "  -6.48327402e+01  5.28434164e+01  2.28404982e+03 -6.33750890e+02]\n",
      " [-1.84184342e+03  2.07080427e+03 -7.08992883e+02  6.16039146e+02\n",
      "  -2.61637011e+01  2.34217082e+02 -6.33750890e+02  2.13524555e+03]]\n",
      "----------------------------------------\n",
      "Covariance Matrix:\n",
      " [[ 3.00831723e+01 -1.43468226e+01  1.13719624e+01 -5.07563549e+00\n",
      "  -3.44420437e-01 -9.44331469e-02  8.76868327e+00 -6.57801220e+00]\n",
      " [-1.43468226e+01  2.34263854e+01 -6.33102440e+00  8.04186579e+00\n",
      "   6.52846975e-01  8.30541434e-01 -4.59656838e+00  7.39572954e+00]\n",
      " [ 1.13719624e+01 -6.33102440e+00  8.28995933e+00 -2.54808083e+00\n",
      "  -1.54931368e-02 -2.34811896e-01  2.69500508e+00 -2.53211744e+00]\n",
      " [-5.07563549e+00  8.04186579e+00 -2.54808083e+00  5.64448399e+00\n",
      "   3.30859176e-01  2.38891713e-01 -1.39354347e+00  2.20013981e+00]\n",
      " [-3.44420437e-01  6.52846975e-01 -1.54931368e-02  3.30859176e-01\n",
      "   1.06741993e+01  1.56853076e+00 -2.31545501e-01 -9.34417895e-02]\n",
      " [-9.44331469e-02  8.30541434e-01 -2.34811896e-01  2.38891713e-01\n",
      "   1.56853076e+00  1.04221657e+01  1.88726487e-01  8.36489578e-01]\n",
      " [ 8.76868327e+00 -4.59656838e+00  2.69500508e+00 -1.39354347e+00\n",
      "  -2.31545501e-01  1.88726487e-01  8.15732079e+00 -2.26339603e+00]\n",
      " [-6.57801220e+00  7.39572954e+00 -2.53211744e+00  2.20013981e+00\n",
      "  -9.34417895e-02  8.36489578e-01 -2.26339603e+00  7.62587697e+00]]\n",
      "----------------------------------------\n",
      "Matrix W:\n",
      " [[-6.87790111e-01  5.32534646e-01  1.40174131e-01 -3.21832863e-02\n",
      "   6.04363928e-02  4.48176602e-01 -1.23339218e-01 -5.42187876e-02]\n",
      " [ 5.46283455e-01  6.67354584e-01  2.17534201e-01 -8.02794078e-02\n",
      "   4.00446622e-01 -1.00969233e-01  1.09579198e-02 -1.78252558e-01]\n",
      " [-2.91343584e-01  1.88193650e-01  4.87725282e-02 -5.10261686e-02\n",
      "  -1.53572474e-01 -7.98911882e-01 -4.60617535e-01 -2.65786340e-02]\n",
      " [ 2.00256902e-01  2.71408059e-01  8.82247774e-02 -5.85292138e-02\n",
      "  -8.81473238e-01  8.52966911e-02  1.60700101e-01 -2.54814523e-01]\n",
      " [ 1.72027304e-02  1.68120421e-01 -7.25320335e-01 -6.60372501e-01\n",
      "   4.20335872e-03  2.01809001e-02  1.23819758e-02  9.31660449e-02]\n",
      " [ 1.90734805e-02  2.38745072e-01 -6.26338471e-01  7.30077189e-01\n",
      "  -5.35771523e-04 -2.46982183e-02 -1.12690299e-02 -1.28791033e-01]\n",
      " [-2.26481898e-01  2.07344907e-01  5.04879640e-02  5.11708998e-02\n",
      "   1.25454245e-02 -3.41913511e-01  7.93902370e-01  3.91411975e-01]\n",
      " [ 2.27115516e-01  1.83602640e-01  4.39227753e-02  1.21520002e-01\n",
      "  -1.87709960e-01  1.59640556e-01 -3.40753648e-01  8.49222649e-01]]\n"
     ]
    }
   ],
   "source": [
    "matrix_w,transformed = pca(epl_df,len(epl_df.columns))"
   ]
  },
  {
   "cell_type": "code",
   "execution_count": 19,
   "metadata": {},
   "outputs": [
    {
     "data": {
      "text/plain": [
       "array([[-18.35146607,   5.60615532,  -8.54318018, ..., -16.69656745,\n",
       "         -0.42896136,  -2.00867505],\n",
       "       [ 28.05726299,  19.61568089,  27.17080129, ...,  28.02212805,\n",
       "         27.88555273,  27.11419031],\n",
       "       [ -7.57155553,  -5.06130884, -12.29892139, ...,  -7.67553976,\n",
       "         -7.76299697,  -8.8683847 ],\n",
       "       ...,\n",
       "       [  1.2083142 ,   0.48831981,   1.25278396, ...,   0.4516963 ,\n",
       "         -0.23537694,   1.4976035 ],\n",
       "       [ -1.63017025,  -1.91801788,   0.52753235, ...,  -2.57187203,\n",
       "         -1.09129136,   0.28196787],\n",
       "       [  2.64894786,   5.17307549,   3.20513744, ...,  -2.09480144,\n",
       "         -1.937157  ,   1.50235094]])"
      ]
     },
     "execution_count": 19,
     "metadata": {},
     "output_type": "execute_result"
    }
   ],
   "source": [
    "transformed"
   ]
  },
  {
   "cell_type": "code",
   "execution_count": 20,
   "metadata": {},
   "outputs": [],
   "source": [
    "principalDf = pd.DataFrame(data = transformed.T,columns = ['principal component 1', 'principal component 2',\n",
    "                                                                   'principal component 3','principal component 4','principal component 5',\n",
    "                                                                   'principal component 6','principal component 7','principal component 8'])"
   ]
  },
  {
   "cell_type": "code",
   "execution_count": 21,
   "metadata": {},
   "outputs": [],
   "source": [
    "principalDf['FTR']=FTR"
   ]
  },
  {
   "cell_type": "code",
   "execution_count": 22,
   "metadata": {},
   "outputs": [
    {
     "data": {
      "text/html": [
       "<div>\n",
       "<style scoped>\n",
       "    .dataframe tbody tr th:only-of-type {\n",
       "        vertical-align: middle;\n",
       "    }\n",
       "\n",
       "    .dataframe tbody tr th {\n",
       "        vertical-align: top;\n",
       "    }\n",
       "\n",
       "    .dataframe thead th {\n",
       "        text-align: right;\n",
       "    }\n",
       "</style>\n",
       "<table border=\"1\" class=\"dataframe\">\n",
       "  <thead>\n",
       "    <tr style=\"text-align: right;\">\n",
       "      <th></th>\n",
       "      <th>principal component 1</th>\n",
       "      <th>principal component 2</th>\n",
       "      <th>principal component 3</th>\n",
       "      <th>principal component 4</th>\n",
       "      <th>principal component 5</th>\n",
       "      <th>principal component 6</th>\n",
       "      <th>principal component 7</th>\n",
       "      <th>principal component 8</th>\n",
       "      <th>FTR</th>\n",
       "    </tr>\n",
       "  </thead>\n",
       "  <tbody>\n",
       "    <tr>\n",
       "      <th>0</th>\n",
       "      <td>-18.351466</td>\n",
       "      <td>28.057263</td>\n",
       "      <td>-7.571556</td>\n",
       "      <td>1.727717</td>\n",
       "      <td>-0.752212</td>\n",
       "      <td>1.208314</td>\n",
       "      <td>-1.630170</td>\n",
       "      <td>2.648948</td>\n",
       "      <td>H</td>\n",
       "    </tr>\n",
       "    <tr>\n",
       "      <th>1</th>\n",
       "      <td>5.606155</td>\n",
       "      <td>19.615681</td>\n",
       "      <td>-5.061309</td>\n",
       "      <td>2.323992</td>\n",
       "      <td>0.316768</td>\n",
       "      <td>0.488320</td>\n",
       "      <td>-1.918018</td>\n",
       "      <td>5.173075</td>\n",
       "      <td>A</td>\n",
       "    </tr>\n",
       "    <tr>\n",
       "      <th>2</th>\n",
       "      <td>-8.543180</td>\n",
       "      <td>27.170801</td>\n",
       "      <td>-12.298921</td>\n",
       "      <td>-3.531223</td>\n",
       "      <td>-0.952870</td>\n",
       "      <td>1.252784</td>\n",
       "      <td>0.527532</td>\n",
       "      <td>3.205137</td>\n",
       "      <td>A</td>\n",
       "    </tr>\n",
       "    <tr>\n",
       "      <th>3</th>\n",
       "      <td>-5.413555</td>\n",
       "      <td>25.029107</td>\n",
       "      <td>-11.549363</td>\n",
       "      <td>9.308509</td>\n",
       "      <td>-3.373048</td>\n",
       "      <td>-0.211346</td>\n",
       "      <td>3.815253</td>\n",
       "      <td>6.724795</td>\n",
       "      <td>A</td>\n",
       "    </tr>\n",
       "    <tr>\n",
       "      <th>4</th>\n",
       "      <td>-1.593390</td>\n",
       "      <td>18.925490</td>\n",
       "      <td>-11.579472</td>\n",
       "      <td>-1.401203</td>\n",
       "      <td>1.462773</td>\n",
       "      <td>-0.904112</td>\n",
       "      <td>-0.266788</td>\n",
       "      <td>5.762907</td>\n",
       "      <td>H</td>\n",
       "    </tr>\n",
       "  </tbody>\n",
       "</table>\n",
       "</div>"
      ],
      "text/plain": [
       "   principal component 1  principal component 2  principal component 3  \\\n",
       "0             -18.351466              28.057263              -7.571556   \n",
       "1               5.606155              19.615681              -5.061309   \n",
       "2              -8.543180              27.170801             -12.298921   \n",
       "3              -5.413555              25.029107             -11.549363   \n",
       "4              -1.593390              18.925490             -11.579472   \n",
       "\n",
       "   principal component 4  principal component 5  principal component 6  \\\n",
       "0               1.727717              -0.752212               1.208314   \n",
       "1               2.323992               0.316768               0.488320   \n",
       "2              -3.531223              -0.952870               1.252784   \n",
       "3               9.308509              -3.373048              -0.211346   \n",
       "4              -1.401203               1.462773              -0.904112   \n",
       "\n",
       "   principal component 7  principal component 8 FTR  \n",
       "0              -1.630170               2.648948   H  \n",
       "1              -1.918018               5.173075   A  \n",
       "2               0.527532               3.205137   A  \n",
       "3               3.815253               6.724795   A  \n",
       "4              -0.266788               5.762907   H  "
      ]
     },
     "execution_count": 22,
     "metadata": {},
     "output_type": "execute_result"
    }
   ],
   "source": [
    "principalDf.head()"
   ]
  },
  {
   "cell_type": "code",
   "execution_count": 23,
   "metadata": {},
   "outputs": [],
   "source": [
    "diff_proj =[]"
   ]
  },
  {
   "cell_type": "code",
   "execution_count": 24,
   "metadata": {},
   "outputs": [
    {
     "data": {
      "image/png": "[encoded data removed]",
      "text/plain": [
       "<Figure size 432x288 with 1 Axes>"
      ]
     },
     "metadata": {
      "needs_background": "light"
     },
     "output_type": "display_data"
    },
    {
     "data": {
      "image/png": "[encoded data removed]",
      "text/plain": [
       "<Figure size 432x288 with 1 Axes>"
      ]
     },
     "metadata": {
      "needs_background": "light"
     },
     "output_type": "display_data"
    },
    {
     "data": {
      "image/png": "[encoded data removed]",
      "text/plain": [
       "<Figure size 432x288 with 1 Axes>"
      ]
     },
     "metadata": {
      "needs_background": "light"
     },
     "output_type": "display_data"
    },
    {
     "data": {
      "image/png": "[encoded data removed]",
      "text/plain": [
       "<Figure size 432x288 with 1 Axes>"
      ]
     },
     "metadata": {
      "needs_background": "light"
     },
     "output_type": "display_data"
    },
    {
     "data": {
      "image/png": "[encoded data removed]",
      "text/plain": [
       "<Figure size 432x288 with 1 Axes>"
      ]
     },
     "metadata": {
      "needs_background": "light"
     },
     "output_type": "display_data"
    },
    {
     "data": {
      "image/png": "[encoded data removed]",
      "text/plain": [
       "<Figure size 432x288 with 1 Axes>"
      ]
     },
     "metadata": {
      "needs_background": "light"
     },
     "output_type": "display_data"
    },
    {
     "data": {
      "image/png": "[encoded data removed]",
      "text/plain": [
       "<Figure size 432x288 with 1 Axes>"
      ]
     },
     "metadata": {
      "needs_background": "light"
     },
     "output_type": "display_data"
    },
    {
     "data": {
      "image/png": "[encoded data removed]",
      "text/plain": [
       "<Figure size 432x288 with 1 Axes>"
      ]
     },
     "metadata": {
      "needs_background": "light"
     },
     "output_type": "display_data"
    }
   ],
   "source": [
    "for i in range(1,principalDf.shape[1]):\n",
    "    H= principalDf[principalDf['FTR'] == 'H']['principal component '+str(i)]\n",
    "    A= principalDf[principalDf['FTR'] == 'A']['principal component '+str(i)]\n",
    "    diff_proj.append(H.mean()-A.mean())\n",
    "    plt.figure()\n",
    "    plt.hist(H, bins = 10, color = 'b', label = 'H')\n",
    "    plt.hist(A, bins = 10, color = 'r', label = 'A')\n",
    "    plt.title(\"Principal Component \"+str(i))\n",
    "    plt.xlabel('Range of PC '+str(i), fontsize=12)\n",
    "    plt.ylabel('Frequency', fontsize=12)\n",
    "    plt.legend(loc='upper right')\n",
    "    plt.savefig('Proj_PC'+str(i)+'.png')\n",
    "    plt.show()"
   ]
  },
  {
   "cell_type": "code",
   "execution_count": 25,
   "metadata": {},
   "outputs": [
    {
     "data": {
      "image/png": "[encoded data removed]",
      "text/plain": [
       "<Figure size 432x288 with 1 Axes>"
      ]
     },
     "metadata": {
      "needs_background": "light"
     },
     "output_type": "display_data"
    }
   ],
   "source": [
    "plt.figure()\n",
    "plt.title(\"Distance\", fontsize=20)\n",
    "plt.xlabel('Principal Components', fontsize=12)\n",
    "plt.ylabel('Range', fontsize=12)\n",
    "plt.plot(diff_proj)\n",
    "plt.savefig('Distance.png');"
   ]
  },
  {
   "cell_type": "code",
   "execution_count": null,
   "metadata": {},
   "outputs": [],
   "source": []
  }
 ],
 "metadata": {
  "kernelspec": {
   "display_name": "Python [conda root]",
   "language": "python",
   "name": "conda-root-py"
  },
  "language_info": {
   "codemirror_mode": {
    "name": "ipython",
    "version": 3
   },
   "file_extension": ".py",
   "mimetype": "text/x-python",
   "name": "python",
   "nbconvert_exporter": "python",
   "pygments_lexer": "ipython3",
   "version": "3.6.7"
  }
 },
 "nbformat": 4,
 "nbformat_minor": 2
}
